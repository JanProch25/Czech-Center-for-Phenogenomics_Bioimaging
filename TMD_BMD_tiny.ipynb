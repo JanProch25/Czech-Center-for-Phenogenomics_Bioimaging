{
 "cells": [
  {
   "cell_type": "markdown",
   "id": "899af1e3",
   "metadata": {},
   "source": [
    "### Cell 1: Importing TMD BMD code"
   ]
  },
  {
   "cell_type": "code",
   "execution_count": null,
   "id": "23db9152",
   "metadata": {},
   "outputs": [],
   "source": [
    "from tmd_bmd_tiny import tmd_bmd"
   ]
  },
  {
   "cell_type": "markdown",
   "id": "20211e99",
   "metadata": {},
   "source": [
    "### Cell 2: Setup folders with mouse body and fantoms "
   ]
  },
  {
   "cell_type": "code",
   "execution_count": null,
   "id": "46f54e8c",
   "metadata": {
    "jupyter": {
     "source_hidden": true
    },
    "tags": []
   },
   "outputs": [],
   "source": [
    "folder_with_mouse_body = \"path1\"\n",
    "folder_phantom1 = \"path2\"\n",
    "folder_phantom2 = \"path3\""
   ]
  },
  {
   "cell_type": "markdown",
   "source": [
    "### Cell 3: Run TMD BMD evaluation\n"
   ],
   "metadata": {
    "collapsed": false
   },
   "id": "e4d12b6118ad884d"
  },
  {
   "cell_type": "code",
   "execution_count": null,
   "outputs": [],
   "source": [
    "tmd_bmd(phantom1_path=folder_phantom1,phantom2_path=folder_phantom2,body_path=folder_with_mouse_body)"
   ],
   "metadata": {
    "collapsed": false
   },
   "id": "e0fbee5367f3c079"
  },
  {
   "cell_type": "markdown",
   "id": "538a233c",
   "metadata": {},
   "source": []
  }
 ],
 "metadata": {
  "kernelspec": {
   "display_name": "Python 3",
   "language": "python",
   "name": "python3"
  },
  "language_info": {
   "codemirror_mode": {
    "name": "ipython",
    "version": 3
   },
   "file_extension": ".py",
   "mimetype": "text/x-python",
   "name": "python",
   "nbconvert_exporter": "python",
   "pygments_lexer": "ipython3",
   "version": "3.8.10"
  }
 },
 "nbformat": 4,
 "nbformat_minor": 5
}
